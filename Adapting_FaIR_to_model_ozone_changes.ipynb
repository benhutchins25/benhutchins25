{
  "nbformat": 4,
  "nbformat_minor": 0,
  "metadata": {
    "colab": {
      "name": "Adapting_FaIR_to_model_ozone_changes.ipynb",
      "provenance": [],
      "authorship_tag": "ABX9TyMm8Hugf30vWcp4M+XRwEjD",
      "include_colab_link": true
    },
    "kernelspec": {
      "name": "python3",
      "display_name": "Python 3"
    },
    "language_info": {
      "name": "python"
    }
  },
  "cells": [
    {
      "cell_type": "markdown",
      "metadata": {
        "id": "view-in-github",
        "colab_type": "text"
      },
      "source": [
        "<a href=\"https://colab.research.google.com/github/benhutchins25/benhutchins25/blob/main/Adapting_FaIR_to_model_ozone_changes.ipynb\" target=\"_parent\"><img src=\"https://colab.research.google.com/assets/colab-badge.svg\" alt=\"Open In Colab\"/></a>"
      ]
    },
    {
      "cell_type": "markdown",
      "metadata": {
        "id": "txE8QWjb-Wo1"
      },
      "source": [
        "The parameters within the FaIR model are as follows:\n",
        "\n",
        "\n",
        "Emissions scenarios (RCP)\n",
        "\n",
        "**Climate response parameters:**\n",
        "\n",
        "The steady-state global mean surface temperature (GMST) response of the climate system to a doubling of atmospheric CO2 concentrations - Equilibrium climate sensitivity (**ECS**)\n",
        "\n",
        "Transient climate respose (**TCR**) - the GMST warming when atmospheric CO2 concentrations double after 70 years when increased by 1 % per year from pre-industrial values. The TCR describes warming for a climate system in disequilibrium and can be better constrained by observations of the disequilibrium climate and radiative forcing of the 20th century and the near future.\n",
        "\n",
        "Effective radiative forcing (ERF) due to a doubling of CO2 (**F2×**)\n",
        "\n",
        "The slow temperature changes from a response to forcing from the upper ocean (**d1**)\n",
        "\n",
        "The fast temperature changes from a response to forcing from the deep ocean (**d2**)\n",
        "\n",
        "**Carbon cycle parameters:**\n",
        "\n",
        "pre-industrial value of the sensitivity of the carbon cycle (**r0**)\n",
        "\n",
        "sensitivity of the carbon cycle to cumulative carbon emissions (**rC**)\n",
        "\n",
        "sensitivity of the carbon cycle to temperature change (**rT**)\n",
        "\n",
        "**Forcing scale factors (+ index values)**\n",
        "\n",
        "0 - **CO2** - CO2 emissions; CH4 fossil fraction; cumulative C emissions; total temperature change\n",
        "\n",
        "1 - **CH4** - CH4 emissions\n",
        "\n",
        "2 - **N2O** - N2O emissions\n",
        "\n",
        "3 - **Other greenhouse gases** - Emissions of other greenhouse gases\n",
        "\n",
        "4 - **Tropospheric ozone** - Emissions of CH4 and short-lived climate forcers\n",
        "\n",
        "5 - **Stratospheric ozone** - Concentrations of ozone-depleting substances (subset\n",
        "of minor greenhouse gases)\n",
        "\n",
        "6 - **Stratospheric water vapour** - CH4 ERF\n",
        "\n",
        "7 - **Contrails** - Aviation NOx fraction; total NOx emitted\n",
        "\n",
        "8 - **Aerosols** - Emissions of short-lived climate forcers\n",
        "\n",
        "9 - **Black carbon on snow** - Emissions of black carbon\n",
        "\n",
        "10 - **Land use change** - Cumulative emissions of land-use-related CO2\n",
        "\n",
        "11 - **Volcanic** - Externally supplied forcing from volcanoes\n",
        "\n",
        "12 - **Solar** - Externally supplied forcing from solar variability\n"
      ]
    },
    {
      "cell_type": "code",
      "metadata": {
        "id": "LfliUAjJ-Gh2"
      },
      "source": [
        ""
      ],
      "execution_count": null,
      "outputs": []
    }
  ]
}